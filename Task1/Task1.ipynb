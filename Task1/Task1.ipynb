{
 "cells": [
  {
   "cell_type": "code",
   "execution_count": 1,
   "metadata": {},
   "outputs": [],
   "source": [
    "import cv2\n",
    "import numpy as np\n",
    "import math\n",
    "import os"
   ]
  },
  {
   "cell_type": "code",
   "execution_count": null,
   "metadata": {},
   "outputs": [],
   "source": [
    "\n"
   ]
  },
  {
   "cell_type": "code",
   "execution_count": 2,
   "metadata": {},
   "outputs": [],
   "source": [
    "#image convolve\n",
    "def co(s_x,pad_image,i):\n",
    "    img_x = np.asarray([[0 for x in range(0,width)] for y in range(0,height)])\n",
    "    for x in range (0,height):\n",
    "        for y in range (0,width):\n",
    "            su=0\n",
    "            for k in range (0,3):\n",
    "                for l in range (0,3):\n",
    "                    a= pad_image[x-k,y-l]\n",
    "                    w1 = s_x[k][l];\n",
    "                    su = su + (w1*a);\n",
    "            img_x[x,y] = su\n",
    "    print(img_x)\n",
    "    d = img_x.shape\n",
    "    print('edge_'+str(i)+'width, height',d)\n",
    "    gname = 'edge'+str(i)+'.jpg'\n",
    "    path = 'A:\\\\classes\\\\Intro to Computer vision and Image Processing\\\\projrct\\\\project1\\\\task2'\n",
    "    cv2.imwrite(os.path.join(path,gname),np.asarray(img_x))\n",
    "    cv2.imshow('edge_x',np.asarray(img_x,dtype ='uint8'))\n",
    "    cv2.waitKey(0)\n",
    "    cv2.destroyAllWindows()\n",
    "    return img_x\n"
   ]
  },
  {
   "cell_type": "code",
   "execution_count": 12,
   "metadata": {},
   "outputs": [
    {
     "name": "stdout",
     "output_type": "stream",
     "text": [
      "s_x [[-1, 0, 1], [-2, 0, 2], [-1, 0, 1]]\n",
      "s_y [[-1, -2, -1], [0, 0, 0], [1, 2, 1]]\n",
      "[[203 203 203 ... 247 247 247]\n",
      " [203 208 204 ... 247 247 247]\n",
      " [204 203 208 ... 247 247 247]\n",
      " ...\n",
      " [144 147 144 ... 139 147 136]\n",
      " [155 152 153 ... 144 152 160]\n",
      " [160 160 155 ... 155 160 160]]\n",
      "Image Dimension    :  (600, 900)\n",
      "Image Height       :  600\n",
      "Image Width        :  900\n",
      "Please Wait... Output is processing\n",
      "[[ 160 -160 -160 ...    0    5   -5]\n",
      " [ 247 -203 -203 ...    0    0    0]\n",
      " [ 741 -609 -614 ...    0    0    0]\n",
      " ...\n",
      " [ 561 -563 -566 ...  -31   -7   -1]\n",
      " [ 535 -555 -564 ...  -10  -23  -11]\n",
      " [ 562 -579 -585 ...    8   -7  -21]]\n",
      "edge_1width, height (600, 900)\n",
      "[[ 160  160  480 ...  630  625  625]\n",
      " [-247 -203 -609 ... -988 -988 -988]\n",
      " [-247 -203 -614 ... -988 -988 -988]\n",
      " ...\n",
      " [  23   13   36 ...   93   85   61]\n",
      " [   3   -5  -18 ...  -28  -15  -17]\n",
      " [ -30  -19  -51 ...  -84  -63  -55]]\n",
      "edge_2width, height (600, 900)\n"
     ]
    },
    {
     "ename": "TypeError",
     "evalue": "only size-1 arrays can be converted to Python scalars",
     "output_type": "error",
     "traceback": [
      "\u001b[1;31m---------------------------------------------------------------------------\u001b[0m",
      "\u001b[1;31mTypeError\u001b[0m                                 Traceback (most recent call last)",
      "\u001b[1;32m<ipython-input-12-5b7e9cd676a7>\u001b[0m in \u001b[0;36m<module>\u001b[1;34m()\u001b[0m\n\u001b[0;32m     36\u001b[0m \u001b[0mg_y\u001b[0m \u001b[1;33m=\u001b[0m \u001b[0mco\u001b[0m\u001b[1;33m(\u001b[0m\u001b[0ms_y\u001b[0m\u001b[1;33m,\u001b[0m\u001b[0mpad_image\u001b[0m\u001b[1;33m,\u001b[0m\u001b[1;36m2\u001b[0m\u001b[1;33m)\u001b[0m\u001b[1;33m\u001b[0m\u001b[0m\n\u001b[0;32m     37\u001b[0m \u001b[1;33m\u001b[0m\u001b[0m\n\u001b[1;32m---> 38\u001b[1;33m \u001b[0medge_magnitude\u001b[0m \u001b[1;33m=\u001b[0m \u001b[0mmath\u001b[0m\u001b[1;33m.\u001b[0m\u001b[0msqrt\u001b[0m\u001b[1;33m(\u001b[0m\u001b[1;33m(\u001b[0m\u001b[0mg_x\u001b[0m\u001b[1;33m*\u001b[0m\u001b[0mg_x\u001b[0m\u001b[1;33m)\u001b[0m \u001b[1;33m+\u001b[0m \u001b[1;33m(\u001b[0m\u001b[1;33m(\u001b[0m\u001b[0mg_y\u001b[0m\u001b[1;33m*\u001b[0m\u001b[0mg_y\u001b[0m\u001b[1;33m)\u001b[0m\u001b[1;33m)\u001b[0m\u001b[1;33m)\u001b[0m\u001b[1;33m\u001b[0m\u001b[0m\n\u001b[0m\u001b[0;32m     39\u001b[0m \u001b[0medge_magnitude\u001b[0m \u001b[1;33m/=\u001b[0m \u001b[0mnp\u001b[0m\u001b[1;33m.\u001b[0m\u001b[0mmax\u001b[0m\u001b[1;33m(\u001b[0m\u001b[0medge_magnitude\u001b[0m\u001b[1;33m)\u001b[0m\u001b[1;33m\u001b[0m\u001b[0m\n\u001b[0;32m     40\u001b[0m \u001b[0mgname\u001b[0m \u001b[1;33m=\u001b[0m \u001b[1;34m'edge_magnitude.jpg'\u001b[0m\u001b[1;33m\u001b[0m\u001b[0m\n",
      "\u001b[1;31mTypeError\u001b[0m: only size-1 arrays can be converted to Python scalars"
     ]
    }
   ],
   "source": [
    "s_x = [[1,0,-1],[2,0,-2],[1,0,-1]]\n",
    "s_y =[[1,2,1],[0,0,0],[-1,-2,-1]]\n",
    "#flip\n",
    "for i in range (0,3):\n",
    "    temp =s_x[i][0]\n",
    "    s_x[i][0] =s_x[i][2]\n",
    "    s_x[i][2] =temp\n",
    "print('s_x',s_x)\n",
    "for y in range (0,3):\n",
    "    temp = s_y[0][y]\n",
    "    s_y[0][y] =s_y[2][y]\n",
    "    s_y[2][y] =temp\n",
    "print('s_y',s_y)\n",
    "\n",
    "img = cv2.imread('A:\\\\classes\\\\Intro to Computer vision and Image Processing\\\\projrct\\\\project1\\\\task1.png',0)\n",
    "im = np.asarray(img)\n",
    "print(im)\n",
    "d = im.shape\n",
    "height = img.shape[0]\n",
    "width = img.shape[1]\n",
    "print('Image Dimension    : ',d)\n",
    "print('Image Height       : ',height)\n",
    "print('Image Width        : ',width)\n",
    "print('Please Wait... Output is processing')\n",
    "#g_x = img.copy()\n",
    "#g_y =img.copy()\n",
    "# newmatrix\n",
    "pad_image = np.asarray([[0 for x in range (width+2)] for y in range (height+2)])\n",
    "pad_image[1:-1,1:-1] = img\n",
    "cv2.imshow('padded',np.asarray(pad_image,dtype = 'uint8'))\n",
    "cv2.waitKey(0)\n",
    "cv2.destroyAllWindows()\n",
    "#g_x = np.asarray([[0 for x in range(0,width)] for y in range(0,height)])\n",
    "g_x = co(s_x,pad_image,1)\n",
    "#g_y = np.asarray([[0 for x in range(0,width)] for y in range(0,height)])\n",
    "g_y = co(s_y,pad_image,2)\n",
    "\n",
    "edge_magnitude = math.sqrt((g_x*g_x) + ((g_y*g_y)))\n",
    "edge_magnitude /= np.max(edge_magnitude)\n",
    "gname = 'edge_magnitude.jpg'\n",
    "path = 'A:\\\\classes\\\\Intro to Computer vision and Image Processing\\\\projrct\\\\project1\\\\task2'\n",
    "cv2.imwrite(os.path.join(path,gname),np.asarray(edge_magnitude))\n",
    "cv2.imshow('edge_direction',np.asarray(edge_magnitude,dtype = 'uint8'))\n",
    "cv2.waitKey(0)\n",
    "cv2.destroyAllWindows()"
   ]
  },
  {
   "cell_type": "code",
   "execution_count": null,
   "metadata": {},
   "outputs": [],
   "source": [
    "\n"
   ]
  },
  {
   "cell_type": "code",
   "execution_count": null,
   "metadata": {
    "scrolled": true
   },
   "outputs": [],
   "source": [
    "\n"
   ]
  },
  {
   "cell_type": "code",
   "execution_count": null,
   "metadata": {},
   "outputs": [],
   "source": [
    "import numpy as np \n",
    "a = [[0,0,0,0,0],[0,1,2,3,0],[0,4,5,6,0],[0,7,8,9,0],[0,0,0,0,0]]\n",
    "b = [[-1,-2,-1],[0,0,0],[1,2,1]]\n",
    "newmatrix = [[0 for x in range (3)]for y in range (3)]\n",
    "print (newmatrix)\n",
    "for i in range(5):\n",
    "    for j in range(5):\n",
    "        sum =0\n",
    "        for m in range (3):\n",
    "            for n in range (3):\n",
    "                sum = sum +b[m][n]*a[i-m][j-n]\n",
    "        newmatrix[i-2][j-2] =sum\n",
    "print(newmatrix)"
   ]
  },
  {
   "cell_type": "code",
   "execution_count": null,
   "metadata": {},
   "outputs": [],
   "source": []
  }
 ],
 "metadata": {
  "kernelspec": {
   "display_name": "Python 3",
   "language": "python",
   "name": "python3"
  },
  "language_info": {
   "codemirror_mode": {
    "name": "ipython",
    "version": 3
   },
   "file_extension": ".py",
   "mimetype": "text/x-python",
   "name": "python",
   "nbconvert_exporter": "python",
   "pygments_lexer": "ipython3",
   "version": "3.6.5"
  }
 },
 "nbformat": 4,
 "nbformat_minor": 2
}
